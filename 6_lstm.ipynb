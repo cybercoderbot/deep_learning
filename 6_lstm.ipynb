{
 "cells": [
  {
   "cell_type": "markdown",
   "metadata": {
    "colab_type": "text",
    "id": "8tQJd2YSCfWR"
   },
   "source": []
  },
  {
   "cell_type": "markdown",
   "metadata": {
    "colab_type": "text",
    "id": "D7tqLMoKF6uq"
   },
   "source": [
    "Deep Learning\n",
    "=============\n",
    "\n",
    "Assignment 6\n",
    "------------\n",
    "\n",
    "After training a skip-gram model in `5_word2vec.ipynb`, the goal of this notebook is to train a LSTM character model over [Text8](http://mattmahoney.net/dc/textdata) data."
   ]
  },
  {
   "cell_type": "code",
   "execution_count": 1,
   "metadata": {
    "cellView": "both",
    "colab": {
     "autoexec": {
      "startup": false,
      "wait_interval": 0
     }
    },
    "colab_type": "code",
    "collapsed": true,
    "id": "MvEblsgEXxrd"
   },
   "outputs": [],
   "source": [
    "# These are all the modules we'll be using later. Make sure you can import them\n",
    "# before proceeding further.\n",
    "from __future__ import print_function\n",
    "import os\n",
    "import numpy as np\n",
    "import random\n",
    "import string\n",
    "import tensorflow as tf\n",
    "import zipfile\n",
    "from six.moves import range\n",
    "from six.moves.urllib.request import urlretrieve"
   ]
  },
  {
   "cell_type": "code",
   "execution_count": 2,
   "metadata": {
    "cellView": "both",
    "colab": {
     "autoexec": {
      "startup": false,
      "wait_interval": 0
     },
     "output_extras": [
      {
       "item_id": 1
      }
     ]
    },
    "colab_type": "code",
    "collapsed": false,
    "executionInfo": {
     "elapsed": 5993,
     "status": "ok",
     "timestamp": 1445965582896,
     "user": {
      "color": "#1FA15D",
      "displayName": "Vincent Vanhoucke",
      "isAnonymous": false,
      "isMe": true,
      "permissionId": "05076109866853157986",
      "photoUrl": "//lh6.googleusercontent.com/-cCJa7dTDcgQ/AAAAAAAAAAI/AAAAAAAACgw/r2EZ_8oYer4/s50-c-k-no/photo.jpg",
      "sessionId": "6f6f07b359200c46",
      "userId": "102167687554210253930"
     },
     "user_tz": 420
    },
    "id": "RJ-o3UBUFtCw",
    "outputId": "d530534e-0791-4a94-ca6d-1c8f1b908a9e"
   },
   "outputs": [
    {
     "name": "stdout",
     "output_type": "stream",
     "text": [
      "Found and verified text8.zip\n"
     ]
    }
   ],
   "source": [
    "url = 'http://mattmahoney.net/dc/'\n",
    "\n",
    "def maybe_download(filename, expected_bytes):\n",
    "  \"\"\"Download a file if not present, and make sure it's the right size.\"\"\"\n",
    "  if not os.path.exists(filename):\n",
    "    filename, _ = urlretrieve(url + filename, filename)\n",
    "  statinfo = os.stat(filename)\n",
    "  if statinfo.st_size == expected_bytes:\n",
    "    print('Found and verified %s' % filename)\n",
    "  else:\n",
    "    print(statinfo.st_size)\n",
    "    raise Exception(\n",
    "      'Failed to verify ' + filename + '. Can you get to it with a browser?')\n",
    "  return filename\n",
    "\n",
    "filename = maybe_download('text8.zip', 31344016)"
   ]
  },
  {
   "cell_type": "code",
   "execution_count": 3,
   "metadata": {
    "cellView": "both",
    "colab": {
     "autoexec": {
      "startup": false,
      "wait_interval": 0
     },
     "output_extras": [
      {
       "item_id": 1
      }
     ]
    },
    "colab_type": "code",
    "collapsed": false,
    "executionInfo": {
     "elapsed": 5982,
     "status": "ok",
     "timestamp": 1445965582916,
     "user": {
      "color": "#1FA15D",
      "displayName": "Vincent Vanhoucke",
      "isAnonymous": false,
      "isMe": true,
      "permissionId": "05076109866853157986",
      "photoUrl": "//lh6.googleusercontent.com/-cCJa7dTDcgQ/AAAAAAAAAAI/AAAAAAAACgw/r2EZ_8oYer4/s50-c-k-no/photo.jpg",
      "sessionId": "6f6f07b359200c46",
      "userId": "102167687554210253930"
     },
     "user_tz": 420
    },
    "id": "Mvf09fjugFU_",
    "outputId": "8f75db58-3862-404b-a0c3-799380597390"
   },
   "outputs": [
    {
     "name": "stdout",
     "output_type": "stream",
     "text": [
      "Data size 100000000 (characters)\n"
     ]
    }
   ],
   "source": [
    "def read_data(filename):\n",
    "  with zipfile.ZipFile(filename) as f:\n",
    "    name = f.namelist()[0]\n",
    "    data = tf.compat.as_str(f.read(name))\n",
    "  return data\n",
    "  \n",
    "text = read_data(filename)\n",
    "print('Data size %d (characters)' % len(text))"
   ]
  },
  {
   "cell_type": "code",
   "execution_count": 4,
   "metadata": {
    "collapsed": false
   },
   "outputs": [
    {
     "name": "stdout",
     "output_type": "stream",
     "text": [
      "First 800 characters:\n",
      " anarchism originated as a term of abuse first used against early working class radicals including the diggers of the english revolution and the sans culottes of the french revolution whilst the term is still used in a pejorative way to describe any act that used violent means to destroy the organization of society it has also been taken up as a positive label by self defined anarchists the word anarchism is derived from the greek without archons ruler chief king anarchism as a political philosophy is the belief that rulers are unnecessary and should be abolished although there are differing interpretations of what this means anarchism also refers to related social movements that advocate the elimination of authoritarian institutions particularly the state the word anarchy as most anarchis\n"
     ]
    }
   ],
   "source": [
    "print('First 800 characters:')\n",
    "print(text[:800])"
   ]
  },
  {
   "cell_type": "markdown",
   "metadata": {
    "colab_type": "text",
    "id": "ga2CYACE-ghb"
   },
   "source": [
    "Create a small validation set."
   ]
  },
  {
   "cell_type": "code",
   "execution_count": 5,
   "metadata": {
    "cellView": "both",
    "colab": {
     "autoexec": {
      "startup": false,
      "wait_interval": 0
     },
     "output_extras": [
      {
       "item_id": 1
      }
     ]
    },
    "colab_type": "code",
    "collapsed": false,
    "executionInfo": {
     "elapsed": 6184,
     "status": "ok",
     "timestamp": 1445965583138,
     "user": {
      "color": "#1FA15D",
      "displayName": "Vincent Vanhoucke",
      "isAnonymous": false,
      "isMe": true,
      "permissionId": "05076109866853157986",
      "photoUrl": "//lh6.googleusercontent.com/-cCJa7dTDcgQ/AAAAAAAAAAI/AAAAAAAACgw/r2EZ_8oYer4/s50-c-k-no/photo.jpg",
      "sessionId": "6f6f07b359200c46",
      "userId": "102167687554210253930"
     },
     "user_tz": 420
    },
    "id": "w-oBpfFG-j43",
    "outputId": "bdb96002-d021-4379-f6de-a977924f0d02"
   },
   "outputs": [
    {
     "name": "stdout",
     "output_type": "stream",
     "text": [
      "#characters for training: 99999000\n",
      "First 110 characters for training:\n",
      " ons anarchists advocate social relations based upon voluntary association of autonomous individuals mutual aid\n",
      "\n",
      "#characters for validation: 1000\n",
      "First 110 characters for validation:\n",
      "  anarchism originated as a term of abuse first used against early working class radicals including the diggers\n"
     ]
    }
   ],
   "source": [
    "valid_size = 1000\n",
    "valid_text = text[:valid_size]\n",
    "train_text = text[valid_size:]\n",
    "train_size = len(train_text)\n",
    "\n",
    "print(\"#characters for training: {}\".format(train_size))\n",
    "print('First 110 characters for training:\\n', train_text[:110])\n",
    "\n",
    "print(\"\\n#characters for validation: {}\".format(valid_size))\n",
    "print('First 110 characters for validation:\\n', valid_text[:110])"
   ]
  },
  {
   "cell_type": "markdown",
   "metadata": {
    "colab_type": "text",
    "id": "Zdw6i4F8glpp"
   },
   "source": [
    "Utility functions to map characters to vocabulary IDs and back."
   ]
  },
  {
   "cell_type": "code",
   "execution_count": 72,
   "metadata": {
    "cellView": "both",
    "colab": {
     "autoexec": {
      "startup": false,
      "wait_interval": 0
     },
     "output_extras": [
      {
       "item_id": 1
      }
     ]
    },
    "colab_type": "code",
    "collapsed": false,
    "executionInfo": {
     "elapsed": 6276,
     "status": "ok",
     "timestamp": 1445965583249,
     "user": {
      "color": "#1FA15D",
      "displayName": "Vincent Vanhoucke",
      "isAnonymous": false,
      "isMe": true,
      "permissionId": "05076109866853157986",
      "photoUrl": "//lh6.googleusercontent.com/-cCJa7dTDcgQ/AAAAAAAAAAI/AAAAAAAACgw/r2EZ_8oYer4/s50-c-k-no/photo.jpg",
      "sessionId": "6f6f07b359200c46",
      "userId": "102167687554210253930"
     },
     "user_tz": 420
    },
    "id": "gAL1EECXeZsD",
    "outputId": "88fc9032-feb9-45ff-a9a0-a26759cc1f2e"
   },
   "outputs": [
    {
     "name": "stdout",
     "output_type": "stream",
     "text": [
      "vocabulary size: 27\n",
      "\n",
      "Unexpected character: ï\n",
      "id   1 26 0 0\n",
      "char a z    ï\n"
     ]
    }
   ],
   "source": [
    "vocabulary_size = len(string.ascii_lowercase) + 1 # [a-z] + ' ' = 27\n",
    "first_letter = ord(string.ascii_lowercase[0])  # 97\n",
    "\n",
    "def char2id(char):\n",
    "  if char in string.ascii_lowercase:\n",
    "    return ord(char) - first_letter + 1\n",
    "  elif char == ' ':\n",
    "    return 0\n",
    "  else:\n",
    "    print('Unexpected character: %s' % char)\n",
    "    return 0\n",
    "  \n",
    "def id2char(dictid):\n",
    "  if dictid > 0:\n",
    "    return chr(dictid + first_letter - 1)\n",
    "  else:\n",
    "    return ' '\n",
    "\n",
    "print('vocabulary size: {}\\n'.format(vocabulary_size))\n",
    "print('id  ', char2id('a'), char2id('z'), char2id(' '), char2id('ï'))\n",
    "print('char', id2char(1), id2char(26), id2char(0), '', 'ï')"
   ]
  },
  {
   "cell_type": "markdown",
   "metadata": {
    "colab_type": "text",
    "id": "lFwoyygOmWsL"
   },
   "source": [
    "Function to generate a training batch for the LSTM model."
   ]
  },
  {
   "cell_type": "code",
   "execution_count": 7,
   "metadata": {
    "cellView": "both",
    "colab": {
     "autoexec": {
      "startup": false,
      "wait_interval": 0
     },
     "output_extras": [
      {
       "item_id": 1
      }
     ]
    },
    "colab_type": "code",
    "collapsed": false,
    "executionInfo": {
     "elapsed": 6473,
     "status": "ok",
     "timestamp": 1445965583467,
     "user": {
      "color": "#1FA15D",
      "displayName": "Vincent Vanhoucke",
      "isAnonymous": false,
      "isMe": true,
      "permissionId": "05076109866853157986",
      "photoUrl": "//lh6.googleusercontent.com/-cCJa7dTDcgQ/AAAAAAAAAAI/AAAAAAAACgw/r2EZ_8oYer4/s50-c-k-no/photo.jpg",
      "sessionId": "6f6f07b359200c46",
      "userId": "102167687554210253930"
     },
     "user_tz": 420
    },
    "id": "d9wMtjy5hCj9",
    "outputId": "3dd79c80-454a-4be0-8b71-4a4a357b3367"
   },
   "outputs": [
    {
     "name": "stdout",
     "output_type": "stream",
     "text": [
      "Training batch:\n",
      "['ons anarchi', 'when milita', 'lleria arch', ' abbeys and', 'married urr', 'hel and ric', 'y and litur', 'ay opened f', 'tion from t', 'migration t', 'new york ot', 'he boeing s', 'e listed wi', 'eber has pr', 'o be made t', 'yer who rec', 'ore signifi', 'a fierce cr', ' two six ei', 'aristotle s', 'ity can be ', ' and intrac', 'tion of the', 'dy to pass ', 'f certain d', 'at it will ', 'e convince ', 'ent told hi', 'ampaign and', 'rver side s', 'ious texts ', 'o capitaliz', 'a duplicate', 'gh ann es d', 'ine january', 'ross zero t', 'cal theorie', 'ast instanc', ' dimensiona', 'most holy m', 't s support', 'u is still ', 'e oscillati', 'o eight sub', 'of italy la', 's the tower', 'klahoma pre', 'erprise lin', 'ws becomes ', 'et in a naz', 'the fabian ', 'etchy to re', ' sharman ne', 'ised empero', 'ting in pol', 'd neo latin', 'th risky ri', 'encyclopedi', 'fense the a', 'duating fro', 'treet grid ', 'ations more', 'appeal of d', 'si have mad']\n",
      "\n",
      "Training batch:\n",
      "['ists advoca', 'ary governm', 'hes nationa', 'd monasteri', 'raca prince', 'chard baer ', 'rgical lang', 'for passeng', 'the nationa', 'took place ', 'ther well k', 'seven six s', 'ith a gloss', 'robably bee', 'to recogniz', 'ceived the ', 'icant than ', 'ritic of th', 'ight in sig', 's uncaused ', ' lost as in', 'cellular ic', 'e size of t', ' him a stic', 'drugs confu', ' take to co', ' the priest', 'im to name ', 'd barred at', 'standard fo', ' such as es', 'ze on the g', 'e of the or', 'd hiver one', 'y eight mar', 'the lead ch', 'es classica', 'ce the non ', 'al analysis', 'mormons bel', 't or at lea', ' disagreed ', 'ing system ', 'btypes base', 'anguages th', 'r commissio', 'ess one nin', 'nux suse li', ' the first ', 'zi concentr', ' society ne', 'elatively s', 'etworks sha', 'or hirohito', 'litical ini', 'n most of t', 'iskerdoo ri', 'ic overview', 'air compone', 'om acnm acc', ' centerline', 'e than any ', 'devotional ', 'de such dev']\n",
      "\n",
      "Validation batch:\n",
      "[' a']\n",
      "\n",
      "Validation batch:\n",
      "['an']\n"
     ]
    }
   ],
   "source": [
    "batch_size = 64\n",
    "num_unrollings = 10\n",
    "\n",
    "class BatchGenerator(object):\n",
    "  def __init__(self, text, batch_size, num_unrollings):\n",
    "    self._text = text\n",
    "    self._text_size = len(text)\n",
    "    self._batch_size = batch_size\n",
    "    self._num_unrollings = num_unrollings\n",
    "    segment = self._text_size // batch_size\n",
    "    self._cursor = [ offset * segment for offset in range(batch_size)]\n",
    "    self._last_batch = self._next_batch()\n",
    "  \n",
    "  def _next_batch(self):\n",
    "    \"\"\"Generate a single batch from the current cursor position in the data.\"\"\"\n",
    "    batch = np.zeros(shape=(self._batch_size, vocabulary_size), dtype=np.float)\n",
    "    for b in range(self._batch_size):\n",
    "      batch[b, char2id(self._text[self._cursor[b]])] = 1.0\n",
    "      self._cursor[b] = (self._cursor[b] + 1) % self._text_size\n",
    "    return batch\n",
    "  \n",
    "  def next(self):\n",
    "    \"\"\"Generate the next array of batches from the data. The array consists of\n",
    "    the last batch of the previous array, followed by num_unrollings new ones.\n",
    "    \"\"\"\n",
    "    batches = [self._last_batch]\n",
    "    for step in range(self._num_unrollings):\n",
    "      batches.append(self._next_batch())\n",
    "    self._last_batch = batches[-1]\n",
    "    return batches\n",
    "\n",
    "def characters(probabilities):\n",
    "  \"\"\"Turn a 1-hot encoding or a probability distribution over the possible\n",
    "  characters back into its (most likely) character representation.\"\"\"\n",
    "  return [id2char(c) for c in np.argmax(probabilities, 1)]\n",
    "\n",
    "def batches2string(batches):\n",
    "  \"\"\"Convert a sequence of batches back into their (most likely) string\n",
    "  representation.\"\"\"\n",
    "  s = [''] * batches[0].shape[0]\n",
    "  for b in batches:\n",
    "    s = [''.join(x) for x in zip(s, characters(b))]\n",
    "  return s\n",
    "\n",
    "train_batches = BatchGenerator(train_text, batch_size, num_unrollings)\n",
    "valid_batches = BatchGenerator(valid_text, 1, 1)\n",
    "\n",
    "print('Training batch:')\n",
    "print(batches2string(train_batches.next()))\n",
    "print('\\nTraining batch:')\n",
    "print(batches2string(train_batches.next()))\n",
    "\n",
    "print('\\nValidation batch:')\n",
    "print(batches2string(valid_batches.next()))\n",
    "print('\\nValidation batch:')\n",
    "print(batches2string(valid_batches.next()))"
   ]
  },
  {
   "cell_type": "code",
   "execution_count": 8,
   "metadata": {
    "cellView": "both",
    "colab": {
     "autoexec": {
      "startup": false,
      "wait_interval": 0
     }
    },
    "colab_type": "code",
    "collapsed": true,
    "id": "KyVd8FxT5QBc"
   },
   "outputs": [],
   "source": [
    "def logprob(predictions, labels):\n",
    "  \"\"\"Log-probability of the true labels in a predicted batch.\"\"\"\n",
    "  predictions[predictions < 1e-10] = 1e-10\n",
    "  return np.sum(np.multiply(labels, -np.log(predictions))) / labels.shape[0]\n",
    "\n",
    "def sample_distribution(distribution):\n",
    "  \"\"\"Sample one element from a distribution assumed to be an array of normalized\n",
    "  probabilities.\n",
    "  \"\"\"\n",
    "  r = random.uniform(0, 1)\n",
    "  s = 0\n",
    "  for i in range(len(distribution)):\n",
    "    s += distribution[i]\n",
    "    if s >= r:\n",
    "      return i\n",
    "  return len(distribution) - 1\n",
    "\n",
    "def sample(prediction):\n",
    "  \"\"\"Turn a (column) prediction into 1-hot encoded samples.\"\"\"\n",
    "  p = np.zeros(shape=[1, vocabulary_size], dtype=np.float)\n",
    "  p[0, sample_distribution(prediction[0])] = 1.0\n",
    "  return p\n",
    "\n",
    "def random_distribution():\n",
    "  \"\"\"Generate a random column of probabilities.\"\"\"\n",
    "  b = np.random.uniform(0.0, 1.0, size=[1, vocabulary_size])\n",
    "  return b/np.sum(b, 1)[:,None]"
   ]
  },
  {
   "cell_type": "markdown",
   "metadata": {
    "colab_type": "text",
    "id": "K8f67YXaDr4C"
   },
   "source": [
    "Simple LSTM Model."
   ]
  },
  {
   "cell_type": "code",
   "execution_count": 9,
   "metadata": {
    "cellView": "both",
    "colab": {
     "autoexec": {
      "startup": false,
      "wait_interval": 0
     }
    },
    "colab_type": "code",
    "collapsed": false,
    "id": "Q5rxZK6RDuGe"
   },
   "outputs": [],
   "source": [
    "num_nodes = 64\n",
    "\n",
    "def weight_variable(shape):\n",
    "  return tf.Variable(tf.truncated_normal(shape, -0.1, 0.1))\n",
    "\n",
    "def bias_variable(shape):\n",
    "  return tf.Variable(tf.zeros(shape))\n",
    "\n",
    "def saved_variable(shape):\n",
    "  return tf.Variable(tf.zeros(shape), trainable=False)\n",
    "  \n",
    "  \n",
    "graph = tf.Graph()\n",
    "with graph.as_default():\n",
    "  \n",
    "  # Parameters:\n",
    "  # Input gate: input, previous output, and bias.\n",
    "  ix = weight_variable([vocabulary_size, num_nodes])\n",
    "  im = weight_variable([num_nodes, num_nodes])\n",
    "  ib = bias_variable([1, num_nodes])\n",
    "  \n",
    "   # Forget gate: input, previous output, and bias.\n",
    "  fx = weight_variable([vocabulary_size, num_nodes])\n",
    "  fm = weight_variable([num_nodes, num_nodes])\n",
    "  fb = bias_variable([1, num_nodes])\n",
    "  \n",
    "   # Memory cell: input, previous output, and bias.\n",
    "  cx = weight_variable([vocabulary_size, num_nodes])\n",
    "  cm = weight_variable([num_nodes, num_nodes])\n",
    "  cb = bias_variable([1, num_nodes])\n",
    "\n",
    "   # Output gate: input, previous output, and bias.\n",
    "  ox = weight_variable([vocabulary_size, num_nodes])\n",
    "  om = weight_variable([num_nodes, num_nodes])\n",
    "  ob = bias_variable([1, num_nodes])\n",
    "  \n",
    "  \n",
    "  # Variables saving state across unrollings.\n",
    "  saved_output = saved_variable([batch_size, num_nodes])\n",
    "  saved_state = saved_variable([batch_size, num_nodes])\n",
    "  \n",
    "  # Classifier weights and biases.\n",
    "  w = weight_variable([num_nodes, vocabulary_size])\n",
    "  b = bias_variable([vocabulary_size])\n",
    "  \n",
    "  # Definition of the cell computation.\n",
    "  def lstm_cell(i, o, state):\n",
    "    \"\"\"Create a LSTM cell. See e.g.: http://arxiv.org/pdf/1402.1128v1.pdf\n",
    "    Note that in this formulation, we omit the various connections between the\n",
    "    previous state and the gates.\"\"\"\n",
    "    input_gate = tf.sigmoid(tf.matmul(i, ix) + tf.matmul(o, im) + ib)\n",
    "    forget_gate = tf.sigmoid(tf.matmul(i, fx) + tf.matmul(o, fm) + fb)\n",
    "    update = tf.matmul(i, cx) + tf.matmul(o, cm) + cb\n",
    "    state = forget_gate * state + input_gate * tf.tanh(update)\n",
    "    output_gate = tf.sigmoid(tf.matmul(i, ox) + tf.matmul(o, om) + ob)\n",
    "    \n",
    "    return output_gate * tf.tanh(state), state\n",
    "\n",
    "  # Input data.\n",
    "  train_data = list()\n",
    "  for _ in range(num_unrollings + 1):\n",
    "    train_data.append(\n",
    "      tf.placeholder(tf.float32, shape=[batch_size,vocabulary_size]))\n",
    "  train_inputs = train_data[:num_unrollings] # a list of 10 tensors\n",
    "  train_labels = train_data[1:]  # labels are inputs shifted by one time step.\n",
    "\n",
    "  # Unrolled LSTM loop.\n",
    "  outputs = list()\n",
    "  output = saved_output\n",
    "  state = saved_state\n",
    "  for itrain in train_inputs:\n",
    "    output, state = lstm_cell(itrain, output, state)\n",
    "    outputs.append(output)\n",
    "\n",
    "  # State saving across unrollings.\n",
    "  with tf.control_dependencies([saved_output.assign(output),\n",
    "                                saved_state.assign(state)]):\n",
    "    # Classifier.\n",
    "    logits = tf.nn.xw_plus_b(tf.concat(0, outputs), w, b)\n",
    "    loss = tf.reduce_mean(\n",
    "      tf.nn.softmax_cross_entropy_with_logits(\n",
    "        labels=tf.concat(0, train_labels), logits=logits))\n",
    "\n",
    "  # Optimizer.\n",
    "  global_step = tf.Variable(0)\n",
    "  learning_rate = tf.train.exponential_decay(10.0, global_step, 5000, 0.1, staircase=True)\n",
    "  optimizer = tf.train.GradientDescentOptimizer(learning_rate)\n",
    "  gradients, v = zip(*optimizer.compute_gradients(loss))\n",
    "  gradients, _ = tf.clip_by_global_norm(gradients, 1.25)\n",
    "  optimizer = optimizer.apply_gradients(zip(gradients, v), global_step=global_step)\n",
    "\n",
    "  # Predictions.\n",
    "  train_prediction = tf.nn.softmax(logits)\n",
    "  \n",
    "  # Sampling and validation eval: batch 1, no unrolling.\n",
    "  sample_input = tf.placeholder(tf.float32, shape=[1, vocabulary_size])\n",
    "  saved_sample_output = tf.Variable(tf.zeros([1, num_nodes]))\n",
    "  saved_sample_state = tf.Variable(tf.zeros([1, num_nodes]))\n",
    "  reset_sample_state = tf.group(\n",
    "    saved_sample_output.assign(tf.zeros([1, num_nodes])),\n",
    "    saved_sample_state.assign(tf.zeros([1, num_nodes])))\n",
    "  sample_output, sample_state = lstm_cell(\n",
    "    sample_input, saved_sample_output, saved_sample_state)\n",
    "  with tf.control_dependencies([saved_sample_output.assign(sample_output),\n",
    "                                saved_sample_state.assign(sample_state)]):\n",
    "    sample_prediction = tf.nn.softmax(tf.nn.xw_plus_b(sample_output, w, b))"
   ]
  },
  {
   "cell_type": "code",
   "execution_count": 10,
   "metadata": {
    "cellView": "both",
    "colab": {
     "autoexec": {
      "startup": false,
      "wait_interval": 0
     },
     "output_extras": [
      {
       "item_id": 41
      },
      {
       "item_id": 80
      },
      {
       "item_id": 126
      },
      {
       "item_id": 144
      }
     ]
    },
    "colab_type": "code",
    "collapsed": false,
    "executionInfo": {
     "elapsed": 199909,
     "status": "ok",
     "timestamp": 1445965877333,
     "user": {
      "color": "#1FA15D",
      "displayName": "Vincent Vanhoucke",
      "isAnonymous": false,
      "isMe": true,
      "permissionId": "05076109866853157986",
      "photoUrl": "//lh6.googleusercontent.com/-cCJa7dTDcgQ/AAAAAAAAAAI/AAAAAAAACgw/r2EZ_8oYer4/s50-c-k-no/photo.jpg",
      "sessionId": "6f6f07b359200c46",
      "userId": "102167687554210253930"
     },
     "user_tz": 420
    },
    "id": "RD9zQCZTEaEm",
    "outputId": "5e868466-2532-4545-ce35-b403cf5d9de6"
   },
   "outputs": [
    {
     "name": "stdout",
     "output_type": "stream",
     "text": [
      "Initialized\n",
      "Step 0\n",
      "Average loss: 3.295, learning rate: 10.00\n",
      "Minibatch perplexity: 26.97\n",
      "================================================================================\n",
      "mewalxxt  inznuyr am gha  lgrlhrien ieb o dug ej udmbzeroe vhcsuen cnanlhptnijsz\n",
      "sx  mailuunpyjc ejm sekjbu huntg jmiy yfoe dohck gcmp rfrgi omc r nkebrtfetoganw\n",
      "jcrcybc eiife tvoovelfak mvdfaayrek kebtmwil hci bindwhemdd  czamsbe gxmeynuxbov\n",
      "pmtyy tvpe rkfl weg gl fnew   dym ekwfnvwtgniozoep  cocfieowqe raffc cqzax ldcxo\n",
      "x tedi rqw  ekdx   yaviutoqeprar did qi fkayklerfsnmbuuecco enmhjon u sg  sfrhqy\n",
      "================================================================================\n",
      "Validation set perplexity: 20.19\n",
      "Step 100\n",
      "Average loss: 2.605, learning rate: 10.00\n",
      "Minibatch perplexity: 11.26\n",
      "Validation set perplexity: 10.54\n",
      "Step 200\n",
      "Average loss: 2.254, learning rate: 10.00\n",
      "Minibatch perplexity: 8.55\n",
      "Validation set perplexity: 8.63\n",
      "Step 300\n",
      "Average loss: 2.108, learning rate: 10.00\n",
      "Minibatch perplexity: 7.55\n",
      "Validation set perplexity: 8.01\n",
      "Step 400\n",
      "Average loss: 2.007, learning rate: 10.00\n",
      "Minibatch perplexity: 7.32\n",
      "Validation set perplexity: 7.76\n",
      "Step 500\n",
      "Average loss: 1.942, learning rate: 10.00\n",
      "Minibatch perplexity: 6.48\n",
      "Validation set perplexity: 7.20\n",
      "Step 600\n",
      "Average loss: 1.915, learning rate: 10.00\n",
      "Minibatch perplexity: 6.34\n",
      "Validation set perplexity: 7.08\n",
      "Step 700\n",
      "Average loss: 1.866, learning rate: 10.00\n",
      "Minibatch perplexity: 6.58\n",
      "Validation set perplexity: 6.73\n",
      "Step 800\n",
      "Average loss: 1.823, learning rate: 10.00\n",
      "Minibatch perplexity: 5.97\n",
      "Validation set perplexity: 6.36\n",
      "Step 900\n",
      "Average loss: 1.834, learning rate: 10.00\n",
      "Minibatch perplexity: 7.00\n",
      "Validation set perplexity: 6.34\n",
      "Step 1000\n",
      "Average loss: 1.827, learning rate: 10.00\n",
      "Minibatch perplexity: 5.74\n",
      "================================================================================\n",
      "kal nungolies of the rocexsic alous defold are perstyre seven toced a cents decl\n",
      "uts rti mimples plaicts burqumetre decaling tene vit flatt echipe eitholu cosefa\n",
      "chide usects oreverivemony roducescicau distured mimmuse deless hiqlougn alsodkn\n",
      "x detheet re internuth recond to ondral dioner and serviru putcs ford offices fr\n",
      "on lost a colve in to ly in and a coummite scenters concresize peeremonia proces\n",
      "================================================================================\n",
      "Validation set perplexity: 6.19\n",
      "Step 1100\n",
      "Average loss: 1.780, learning rate: 10.00\n",
      "Minibatch perplexity: 5.60\n",
      "Validation set perplexity: 5.90\n",
      "Step 1200\n",
      "Average loss: 1.756, learning rate: 10.00\n",
      "Minibatch perplexity: 5.22\n",
      "Validation set perplexity: 5.67\n",
      "Step 1300\n",
      "Average loss: 1.735, learning rate: 10.00\n",
      "Minibatch perplexity: 5.80\n",
      "Validation set perplexity: 5.62\n",
      "Step 1400\n",
      "Average loss: 1.749, learning rate: 10.00\n",
      "Minibatch perplexity: 6.03\n",
      "Validation set perplexity: 5.71\n",
      "Step 1500\n",
      "Average loss: 1.744, learning rate: 10.00\n",
      "Minibatch perplexity: 4.83\n",
      "Validation set perplexity: 5.44\n",
      "Step 1600\n",
      "Average loss: 1.750, learning rate: 10.00\n",
      "Minibatch perplexity: 5.52\n",
      "Validation set perplexity: 5.51\n",
      "Step 1700\n",
      "Average loss: 1.713, learning rate: 10.00\n",
      "Minibatch perplexity: 5.73\n",
      "Validation set perplexity: 5.54\n",
      "Step 1800\n",
      "Average loss: 1.679, learning rate: 10.00\n",
      "Minibatch perplexity: 5.48\n",
      "Validation set perplexity: 5.41\n",
      "Step 1900\n",
      "Average loss: 1.651, learning rate: 10.00\n",
      "Minibatch perplexity: 5.11\n",
      "Validation set perplexity: 5.21\n",
      "Step 2000\n",
      "Average loss: 1.701, learning rate: 10.00\n",
      "Minibatch perplexity: 6.02\n",
      "================================================================================\n",
      "jemated in atly three three when that spany nuw may including that slet liging w\n",
      " in sourd by vermed to csana in one four f pabtion ustry out on erguals spasit p\n",
      "class singlize vetysaching pising ligh with dork unifrys hill a stides once that\n",
      "wowic cennination movies on muncoved and tesperon to one eight one eight nine se\n",
      "inglation west cuare was an divistna this discommation aptertional gumenence ut \n",
      "================================================================================\n",
      "Validation set perplexity: 5.18\n",
      "Step 2100\n",
      "Average loss: 1.688, learning rate: 10.00\n",
      "Minibatch perplexity: 5.25\n",
      "Validation set perplexity: 4.99\n",
      "Step 2200\n",
      "Average loss: 1.682, learning rate: 10.00\n",
      "Minibatch perplexity: 6.46\n",
      "Validation set perplexity: 5.01\n",
      "Step 2300\n",
      "Average loss: 1.643, learning rate: 10.00\n",
      "Minibatch perplexity: 5.02\n",
      "Validation set perplexity: 4.90\n",
      "Step 2400\n",
      "Average loss: 1.664, learning rate: 10.00\n",
      "Minibatch perplexity: 4.96\n",
      "Validation set perplexity: 4.82\n",
      "Step 2500\n",
      "Average loss: 1.683, learning rate: 10.00\n",
      "Minibatch perplexity: 5.26\n",
      "Validation set perplexity: 4.71\n",
      "Step 2600\n",
      "Average loss: 1.660, learning rate: 10.00\n",
      "Minibatch perplexity: 5.60\n",
      "Validation set perplexity: 4.57\n",
      "Step 2700\n",
      "Average loss: 1.658, learning rate: 10.00\n",
      "Minibatch perplexity: 4.48\n",
      "Validation set perplexity: 4.64\n",
      "Step 2800\n",
      "Average loss: 1.650, learning rate: 10.00\n",
      "Minibatch perplexity: 5.51\n",
      "Validation set perplexity: 4.56\n",
      "Step 2900\n",
      "Average loss: 1.651, learning rate: 10.00\n",
      "Minibatch perplexity: 5.84\n",
      "Validation set perplexity: 4.71\n",
      "Step 3000\n",
      "Average loss: 1.653, learning rate: 10.00\n",
      "Minibatch perplexity: 5.17\n",
      "================================================================================\n",
      "ratt idsiciation ware blest chack of hwerevoull by e he leiders facity posicists\n",
      "qu schouds wanding a belis were are hars wain classial car timeschey as off gy a\n",
      " collic as maho on durfon one nith the protobal khate calledished prodine ancaru\n",
      "walled number renculichelar activlity that the ade most also alto sententing tak\n",
      "walfely prodid to enfirress proceant sameirs of contributing people discimblizes\n",
      "================================================================================\n",
      "Validation set perplexity: 4.58\n",
      "Step 3100\n",
      "Average loss: 1.629, learning rate: 10.00\n",
      "Minibatch perplexity: 5.76\n",
      "Validation set perplexity: 4.55\n",
      "Step 3200\n",
      "Average loss: 1.650, learning rate: 10.00\n",
      "Minibatch perplexity: 5.68\n",
      "Validation set perplexity: 4.59\n",
      "Step 3300\n",
      "Average loss: 1.638, learning rate: 10.00\n",
      "Minibatch perplexity: 4.82\n",
      "Validation set perplexity: 4.48\n",
      "Step 3400\n",
      "Average loss: 1.669, learning rate: 10.00\n",
      "Minibatch perplexity: 5.45\n",
      "Validation set perplexity: 4.57\n",
      "Step 3500\n",
      "Average loss: 1.657, learning rate: 10.00\n",
      "Minibatch perplexity: 5.66\n",
      "Validation set perplexity: 4.58\n",
      "Step 3600\n",
      "Average loss: 1.672, learning rate: 10.00\n",
      "Minibatch perplexity: 4.51\n",
      "Validation set perplexity: 4.52\n",
      "Step 3700\n",
      "Average loss: 1.647, learning rate: 10.00\n",
      "Minibatch perplexity: 5.20\n",
      "Validation set perplexity: 4.47\n",
      "Step 3800\n",
      "Average loss: 1.646, learning rate: 10.00\n",
      "Minibatch perplexity: 5.56\n",
      "Validation set perplexity: 4.67\n",
      "Step 3900\n",
      "Average loss: 1.639, learning rate: 10.00\n",
      "Minibatch perplexity: 5.26\n",
      "Validation set perplexity: 4.54\n",
      "Step 4000\n",
      "Average loss: 1.655, learning rate: 10.00\n",
      "Minibatch perplexity: 4.71\n",
      "================================================================================\n",
      "lly of the zeliowbmee fellodat diff is any came with seal derellaine our of ign \n",
      "ly order is centy the genemenced retervs the terms from due extrogre the feasus \n",
      "re all handers shone pagably or eite orpees one nine six seven zero termornskfou\n",
      "ck all were ingecebos and both lope  center rejernites would presist this there \n",
      "s feed crititionally drugent which him generally life baning campanityunipular b\n",
      "================================================================================\n",
      "Validation set perplexity: 4.59\n",
      "Step 4100\n",
      "Average loss: 1.633, learning rate: 10.00\n",
      "Minibatch perplexity: 5.30\n",
      "Validation set perplexity: 4.61\n",
      "Step 4200\n",
      "Average loss: 1.635, learning rate: 10.00\n",
      "Minibatch perplexity: 5.41\n",
      "Validation set perplexity: 4.52\n",
      "Step 4300\n",
      "Average loss: 1.615, learning rate: 10.00\n",
      "Minibatch perplexity: 4.95\n",
      "Validation set perplexity: 4.42\n",
      "Step 4400\n",
      "Average loss: 1.611, learning rate: 10.00\n",
      "Minibatch perplexity: 4.69\n",
      "Validation set perplexity: 4.33\n",
      "Step 4500\n",
      "Average loss: 1.618, learning rate: 10.00\n",
      "Minibatch perplexity: 5.28\n",
      "Validation set perplexity: 4.49\n",
      "Step 4600\n",
      "Average loss: 1.618, learning rate: 10.00\n",
      "Minibatch perplexity: 4.91\n",
      "Validation set perplexity: 4.59\n",
      "Step 4700\n",
      "Average loss: 1.629, learning rate: 10.00\n",
      "Minibatch perplexity: 5.39\n",
      "Validation set perplexity: 4.49\n",
      "Step 4800\n",
      "Average loss: 1.630, learning rate: 10.00\n",
      "Minibatch perplexity: 4.28\n",
      "Validation set perplexity: 4.45\n",
      "Step 4900\n",
      "Average loss: 1.633, learning rate: 10.00\n",
      "Minibatch perplexity: 5.27\n",
      "Validation set perplexity: 4.54\n",
      "Step 5000\n",
      "Average loss: 1.604, learning rate: 1.00\n",
      "Minibatch perplexity: 4.46\n",
      "================================================================================\n",
      "ply backer poloticient repart vertual cignation s was it over two nine of as  fo\n",
      "g of the engman and dlays execan cost love thore ages out milogiee was and cultr\n",
      "keswine of a coameshifry suepor as komma castary bream to infinited of is furce \n",
      "y ear bongolic one six zero zero zero eight comp genenine cannates in that death\n",
      "ly three to not ricker two eight fizm extutel based us on it wince pirady site o\n",
      "================================================================================\n",
      "Validation set perplexity: 4.50\n",
      "Step 5100\n",
      "Average loss: 1.608, learning rate: 1.00\n",
      "Minibatch perplexity: 5.15\n",
      "Validation set perplexity: 4.33\n",
      "Step 5200\n",
      "Average loss: 1.595, learning rate: 1.00\n",
      "Minibatch perplexity: 4.72\n",
      "Validation set perplexity: 4.25\n",
      "Step 5300\n",
      "Average loss: 1.581, learning rate: 1.00\n",
      "Minibatch perplexity: 4.64\n",
      "Validation set perplexity: 4.25\n",
      "Step 5400\n",
      "Average loss: 1.584, learning rate: 1.00\n",
      "Minibatch perplexity: 5.13\n",
      "Validation set perplexity: 4.26\n",
      "Step 5500\n",
      "Average loss: 1.568, learning rate: 1.00\n",
      "Minibatch perplexity: 4.97\n",
      "Validation set perplexity: 4.22\n",
      "Step 5600\n",
      "Average loss: 1.582, learning rate: 1.00\n",
      "Minibatch perplexity: 4.96\n",
      "Validation set perplexity: 4.20\n",
      "Step 5700\n",
      "Average loss: 1.569, learning rate: 1.00\n",
      "Minibatch perplexity: 4.45\n",
      "Validation set perplexity: 4.21\n",
      "Step 5800\n",
      "Average loss: 1.583, learning rate: 1.00\n",
      "Minibatch perplexity: 4.99\n",
      "Validation set perplexity: 4.23\n",
      "Step 5900\n",
      "Average loss: 1.575, learning rate: 1.00\n",
      "Minibatch perplexity: 5.01\n",
      "Validation set perplexity: 4.21\n",
      "Step 6000\n",
      "Average loss: 1.545, learning rate: 1.00\n",
      "Minibatch perplexity: 5.07\n",
      "================================================================================\n",
      "x colvarch mich as had in a quied seate provimiebel stand bloen for the national\n",
      "ches s kelicate mustnose a pensetionally leight in the gruang individe of the pr\n",
      "gent but rilish eurest dufferec art and perlare attacking reastrad and prodict i\n",
      "sulls graves one nine two jace counce body was amayer of the state cell wasked w\n",
      "od king prication dashed of viatory vyditabe seald mights mule carria recaphily \n",
      "================================================================================\n",
      "Validation set perplexity: 4.19\n",
      "Step 6100\n",
      "Average loss: 1.571, learning rate: 1.00\n",
      "Minibatch perplexity: 5.16\n",
      "Validation set perplexity: 4.18\n",
      "Step 6200\n",
      "Average loss: 1.537, learning rate: 1.00\n",
      "Minibatch perplexity: 5.05\n",
      "Validation set perplexity: 4.20\n",
      "Step 6300\n",
      "Average loss: 1.543, learning rate: 1.00\n",
      "Minibatch perplexity: 5.05\n",
      "Validation set perplexity: 4.18\n",
      "Step 6400\n",
      "Average loss: 1.543, learning rate: 1.00\n",
      "Minibatch perplexity: 4.54\n",
      "Validation set perplexity: 4.18\n",
      "Step 6500\n",
      "Average loss: 1.558, learning rate: 1.00\n",
      "Minibatch perplexity: 4.71\n",
      "Validation set perplexity: 4.19\n",
      "Step 6600\n",
      "Average loss: 1.597, learning rate: 1.00\n",
      "Minibatch perplexity: 4.76\n",
      "Validation set perplexity: 4.16\n",
      "Step 6700\n",
      "Average loss: 1.585, learning rate: 1.00\n",
      "Minibatch perplexity: 5.20\n",
      "Validation set perplexity: 4.18\n",
      "Step 6800\n",
      "Average loss: 1.611, learning rate: 1.00\n",
      "Minibatch perplexity: 4.70\n",
      "Validation set perplexity: 4.18\n",
      "Step 6900\n",
      "Average loss: 1.587, learning rate: 1.00\n",
      "Minibatch perplexity: 4.63\n",
      "Validation set perplexity: 4.21\n",
      "Step 7000\n",
      "Average loss: 1.580, learning rate: 1.00\n",
      "Minibatch perplexity: 5.16\n",
      "================================================================================\n",
      "de chrus god theyer i odeclo or problork schoold two two other same a assary rel\n",
      "on sende onizer two fibe in the u andire monevary greated by the gengi on sologe\n",
      "h wath a with the wents air one zero one eight seven carnaning say and name indi\n",
      "man and daighs eight seven six nine two wokengan solo to assees to the proceptio\n",
      "s aitecitions and laus while boid now onios for comp of itseterm is alone setwan\n",
      "================================================================================\n",
      "Validation set perplexity: 4.18\n"
     ]
    }
   ],
   "source": [
    "num_steps = 7001\n",
    "summary_frequency = 100\n",
    "\n",
    "with tf.Session(graph=graph) as session:\n",
    "  tf.global_variables_initializer().run()\n",
    "  print('Initialized')\n",
    "  mean_loss = 0\n",
    "  for step in range(num_steps):\n",
    "    batches = train_batches.next()\n",
    "    feed_dict = dict()\n",
    "    for i in range(num_unrollings + 1):\n",
    "      feed_dict[train_data[i]] = batches[i]\n",
    "    _, l, predictions, lr = session.run(\n",
    "      [optimizer, loss, train_prediction, learning_rate], feed_dict=feed_dict)\n",
    "    mean_loss += l\n",
    "    if step % summary_frequency == 0:\n",
    "      if step > 0:\n",
    "        mean_loss = mean_loss / summary_frequency\n",
    "      # The mean loss is an estimate of the loss over the last few batches.\n",
    "      print('Step %d' % step)\n",
    "      print('Average loss: %.3f, learning rate: %.2f' % (mean_loss, lr))\n",
    "      mean_loss = 0\n",
    "      labels = np.concatenate(list(batches)[1:])\n",
    "      print('Minibatch perplexity: %.2f' % float(\n",
    "        np.exp(logprob(predictions, labels))))\n",
    "      if step % (summary_frequency * 10) == 0:\n",
    "        # Generate some samples.\n",
    "        print('=' * 80)\n",
    "        for _ in range(5):\n",
    "          feed = sample(random_distribution())\n",
    "          sentence = characters(feed)[0]\n",
    "          reset_sample_state.run()\n",
    "          for _ in range(79):\n",
    "            prediction = sample_prediction.eval({sample_input: feed})\n",
    "            feed = sample(prediction)\n",
    "            sentence += characters(feed)[0]\n",
    "          print(sentence)\n",
    "        print('=' * 80)\n",
    "      # Measure validation set perplexity.\n",
    "      reset_sample_state.run()\n",
    "      valid_logprob = 0\n",
    "      for _ in range(valid_size):\n",
    "        b = valid_batches.next()\n",
    "        predictions = sample_prediction.eval({sample_input: b[0]})\n",
    "        valid_logprob = valid_logprob + logprob(predictions, b[1])\n",
    "      print('Validation set perplexity: %.2f' % float(np.exp(\n",
    "        valid_logprob / valid_size)))"
   ]
  },
  {
   "cell_type": "markdown",
   "metadata": {
    "colab_type": "text",
    "id": "pl4vtmFfa5nn"
   },
   "source": [
    "---\n",
    "Problem 1\n",
    "---------\n",
    "\n",
    "You might have noticed that the definition of the LSTM cell involves 4 matrix multiplications with the input, and 4 matrix multiplications with the output. Simplify the expression by using a single matrix multiply for each, and variables that are 4 times larger.\n",
    "\n",
    "---"
   ]
  },
  {
   "cell_type": "code",
   "execution_count": 51,
   "metadata": {
    "collapsed": false
   },
   "outputs": [],
   "source": [
    "def lstm_cell(i, o, state):\n",
    "  \"\"\"Create a LSTM cell. See e.g.: http://arxiv.org/pdf/1402.1128v1.pdf\n",
    "  Note that in this formulation, we omit the various connections between the\n",
    "  previous state and the gates.\"\"\"\n",
    "  input_gate = tf.sigmoid(tf.matmul(i, ix) + tf.matmul(o, im) + ib)\n",
    "  forget_gate = tf.sigmoid(tf.matmul(i, fx) + tf.matmul(o, fm) + fb)\n",
    "  update = tf.matmul(i, cx) + tf.matmul(o, cm) + cb\n",
    "  state = forget_gate * state + input_gate * tf.tanh(update)\n",
    "  output_gate = tf.sigmoid(tf.matmul(i, ox) + tf.matmul(o, om) + ob)\n",
    "\n",
    "  return output_gate * tf.tanh(state), state\n",
    "\n",
    "\n",
    "\n",
    "# ix:(27,64)  im:(64,64)  ib:(1,64)\n",
    "# fx:(27,64)  fm:(64,64)  fb:(1,64)\n",
    "# cx:(27,64)  cm:(64,64)  cb:(1,64)\n",
    "# ox:(27,64)  om:(64,64)  ob:(1,64)\n",
    "# i :(64,27)  o :(64,64)  state:(64,64)\n",
    "\n",
    "# input_gate:(64,64)\n",
    "# forget_gate:(64,64)\n",
    "# update:(64,64)\n",
    "# state:(64,64)\n",
    "# output_gate:(64,64)\n",
    "# output: (64,64)\n",
    "\n",
    "\n",
    "# saved_output = saved_variable([batch_size, num_nodes])\n",
    "# saved_state = saved_variable([batch_size, num_nodes])\n",
    "outputs = []\n",
    "# output = saved_output (64,64)\n",
    "# state = saved_state\n",
    "for itrain in train_inputs:  #(64,27)\n",
    "  output, state = lstm_cell(itrain, output, state)\n",
    "  outputs.append(output)\n",
    "\n",
    "i = itrain\n",
    "o = output\n",
    "input_gate = tf.sigmoid(tf.matmul(i, ix) + tf.matmul(o, im) + ib)\n",
    "forget_gate = tf.sigmoid(tf.matmul(i, fx) + tf.matmul(o, fm) + fb)\n",
    "update = tf.matmul(i, cx) + tf.matmul(o, cm) + cb\n",
    "state = forget_gate * state + input_gate * tf.tanh(update)\n",
    "output_gate = tf.sigmoid(tf.matmul(i, ox) + tf.matmul(o, om) + ob)"
   ]
  },
  {
   "cell_type": "code",
   "execution_count": 64,
   "metadata": {
    "collapsed": false
   },
   "outputs": [
    {
     "data": {
      "text/plain": [
       "97"
      ]
     },
     "execution_count": 64,
     "metadata": {},
     "output_type": "execute_result"
    }
   ],
   "source": [
    "first_letter"
   ]
  },
  {
   "cell_type": "markdown",
   "metadata": {
    "colab_type": "text",
    "id": "4eErTCTybtph"
   },
   "source": [
    "---\n",
    "Problem 2\n",
    "---------\n",
    "\n",
    "We want to train a LSTM over bigrams, that is pairs of consecutive characters like 'ab' instead of single characters like 'a'. Since the number of possible bigrams is large, feeding them directly to the LSTM using 1-hot encodings will lead to a very sparse representation that is very wasteful computationally.\n",
    "\n",
    "a- Introduce an embedding lookup on the inputs, and feed the embeddings to the LSTM cell instead of the inputs themselves.\n",
    "\n",
    "b- Write a bigram-based LSTM, modeled on the character LSTM above.\n",
    "\n",
    "c- Introduce Dropout. For best practices on how to use Dropout in LSTMs, refer to this [article](http://arxiv.org/abs/1409.2329).\n",
    "\n",
    "---"
   ]
  },
  {
   "cell_type": "code",
   "execution_count": null,
   "metadata": {
    "collapsed": true
   },
   "outputs": [],
   "source": []
  },
  {
   "cell_type": "markdown",
   "metadata": {
    "colab_type": "text",
    "id": "Y5tapX3kpcqZ"
   },
   "source": [
    "---\n",
    "Problem 3\n",
    "---------\n",
    "\n",
    "(difficult!)\n",
    "\n",
    "Write a sequence-to-sequence LSTM which mirrors all the words in a sentence. For example, if your input is:\n",
    "\n",
    "    the quick brown fox\n",
    "    \n",
    "the model should attempt to output:\n",
    "\n",
    "    eht kciuq nworb xof\n",
    "    \n",
    "Refer to the lecture on how to put together a sequence-to-sequence model, as well as [this article](http://arxiv.org/abs/1409.3215) for best practices.\n",
    "\n",
    "---"
   ]
  },
  {
   "cell_type": "code",
   "execution_count": null,
   "metadata": {
    "collapsed": true
   },
   "outputs": [],
   "source": []
  }
 ],
 "metadata": {
  "anaconda-cloud": {},
  "colab": {
   "default_view": {},
   "name": "6_lstm.ipynb",
   "provenance": [],
   "version": "0.3.2",
   "views": {}
  },
  "kernelspec": {
   "display_name": "Python [default]",
   "language": "python",
   "name": "python3"
  },
  "language_info": {
   "codemirror_mode": {
    "name": "ipython",
    "version": 3
   },
   "file_extension": ".py",
   "mimetype": "text/x-python",
   "name": "python",
   "nbconvert_exporter": "python",
   "pygments_lexer": "ipython3",
   "version": "3.5.2"
  }
 },
 "nbformat": 4,
 "nbformat_minor": 0
}
